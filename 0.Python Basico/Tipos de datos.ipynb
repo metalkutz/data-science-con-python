{
 "cells": [
  {
   "cell_type": "markdown",
   "metadata": {},
   "source": [
    "# Tipos de Datos en Python\n",
    "\n",
    "Un breve resumen sobre tipos de datos en Python. Siempre pueden leer la documentación, algún reel en instagram/tiktok o libros de O'Reilly. Aunque un ayuda memoria nunca está de más (de vez en cuando vuelvo a revisar cuando se me olvida algún atributo o método). \n",
    "\n",
    "- Numéricos (Enteros (Integer), Flotante (Float) y Complejos (Complex))\n",
    "- Booleanos (Boolean)\n",
    "- Diccionarios (Dictionary)\n",
    "- Conjuntos (Set)\n",
    "- Secuencias (Cadena (String), Lista (Lista), Tupla (Tuple))\n",
    "\n",
    "![Alt text](image.png)\n",
    "fuente GeekforGeeks.org"
   ]
  },
  {
   "cell_type": "markdown",
   "metadata": {},
   "source": [
    "## Cadena/String"
   ]
  },
  {
   "cell_type": "code",
   "execution_count": 2,
   "metadata": {},
   "outputs": [
    {
     "name": "stdout",
     "output_type": "stream",
     "text": [
      "M\n",
      "a M\n"
     ]
    }
   ],
   "source": [
    "cadena = 'Hello world!'\n",
    "# Métodos\n",
    "cadena.find(\"w\") #devuelve el índice de la letra \"w\"\n",
    "cadena.startswith('H') #devuelve True, puesto que la cadena empieza con H.\n",
    "cadena.endswith('d') #devuelve False, puesto que la cadena termina por !\n",
    "cadena.split(' ') #divide la cadena por espacios y crea una lista\n",
    "cadena.upper() #imprime la cadena en mayúsculas\n",
    "cadena.lower() #imprime la cadena en minúsculas\n",
    "cadena.replace('world', 'mundo') #imprime la cadena cambiando Hello por Hola\n",
    "\n",
    "# Slicing\n",
    "cadena = 'Hola Mundo'\n",
    "print(cadena[-5]) #NOTA: El resultado vuelve a ser un string\n",
    "print(cadena[3:6]) #NOTA: Podemos obviar el 0 y tomará el inicio de la cadena"
   ]
  },
  {
   "cell_type": "markdown",
   "metadata": {},
   "source": [
    "# Lista/List"
   ]
  },
  {
   "cell_type": "code",
   "execution_count": null,
   "metadata": {},
   "outputs": [],
   "source": [
    "mi_lista = [10,20,5,100,50]\n",
    "mi_lista.append(\"hashtag\") #agregar elementos a la lista al final\n",
    "mi_lista.extend([\"meme\",\"trending_topic\"]) #agregar varios elementos al final de la lista\n",
    "mi_lista.insert(3,\"BCN\") #insertar en una posición específica\n",
    "mi_lista[1] = \"bizcochito\" #reemplazar elementos dentro de una lista en una posición específica\n",
    "mi_lista_2 = mi_lista.copy()  #clonar lista\n",
    "mi_lista.remove(\"BCN\") #eliminar un o varios elementos con el el valor definido\n",
    "mi_lista.pop(3) #elimina un elemento en una posición específica\n",
    "mi_lista.sort() #ordena los elementos de la lista, pero solo puede orderar de 1 tipo\n",
    "\n",
    "# Slicing\n",
    "mi_lista[1][0] #indexación en listas anidadas\n",
    "mi_lista[5:-5] #slicing "
   ]
  },
  {
   "cell_type": "markdown",
   "metadata": {},
   "source": [
    "# Tupla/Tuple\n",
    "\n",
    "Una tupla al igual que las listas, se utiliza para **almacenar un conjunto de elementos secuenciados de cualquier tipo** y estos elementos también tienen un **índice** como en el caso de las listas o cadenas. La principal diferencia es que las tuplas son **inmutables**, sus valores no se pueden eliminar de la tupla. ¿Porqué utilizar una tupla?\n",
    "\n",
    "- inmutables\n",
    "- más rápidas para recorrer ya que ocupan menos memoria\n",
    "- sirven para almacenar datos que queremos no cambien, como historial,"
   ]
  },
  {
   "cell_type": "code",
   "execution_count": null,
   "metadata": {},
   "outputs": [],
   "source": [
    "tupla = (1,2,\"q\",\"e\",True, [1,2,3,4], (\"a\",False))\n",
    "tupla.count(\"a\") \n",
    "tupla.index(\"q\") \n",
    "tupla3 = tupla1 + tupla2  #se pueden concatenar y los valores se unen\n",
    "sorted(tupla) #se puede ordenar los elementos de la tupla"
   ]
  },
  {
   "cell_type": "markdown",
   "metadata": {},
   "source": [
    "# Diccionario/Dictionary\n",
    "\n",
    "Los diccionarios  en Python son otro objeto básico que nos permite asignar a ciertas  **claves (keys)**  determinados  **valores (values)**.  Se declaran como los sets, mediante **llaves {}** \n",
    "\n",
    "Como en el caso de las listas, tienen indexación, pero con una peculiaridad. Los índices serán lo que hemos llamado  **claves (keys)**. Cada elemento de un diccionario está representado como un par **clave:valor (key:value)** . A este par de clave, valor, se le llama **item**"
   ]
  },
  {
   "cell_type": "code",
   "execution_count": null,
   "metadata": {},
   "outputs": [],
   "source": [
    "mi_dict = {5:32 , 'clave2':'Hola Mundo'}\n",
    "mi_dict.get('clave') #Imprimimos el valor asociado a la clave \"clave\"\n",
    "mi_dict.values() #devuelve los valores del diccionario\n",
    "mi_dict.keys() #devuelve las claves del diccionario\n",
    "mi_dict.items() #nos devuelve los elementos del diccionario en forma de tuplas (clave, valor) Nota: si lo convertimos a lista, tendremos una lista de tuplas\n",
    "mi_dict.pop('clave2') #elimina un elemento del diccionario a partir de su clave.\n",
    "mi_dict.popitem() #elimina el último elemento del diccionario\n",
    "mi_dict.update({'clave2': 'Jelou guorl'}) #Podemos utilizar el método .update() para añadir de nuevo el par \"Messi:60\" al diccionario\n",
    "mi_dict['clave3'] = 'chatgpt' #de manera similar al mismo método en los sets, actualiza los valores del diccionario, modificando su valor"
   ]
  },
  {
   "cell_type": "markdown",
   "metadata": {},
   "source": [
    "# Conjunto/Set\n",
    "En Python, un set  es un objeto similar a las listas o los diccionarios. Se crean usando llaves  {}  y no se pueden indexar. Pero son mutables  ya que se pueden agregar o eliminar elementos.\n",
    "\n",
    "- Por la manera en la que se almacenan, es  más rápido  añadir un elemento o comprobar si está o no en el set.\n",
    "- Pueden estar formados por objetos de cualquie tipo: string, int, float, boolean…\n",
    "- Los  sets  presentan una propiedad muy importante  no contienen elementos duplicados que se va a respetar siempre que creemos un set.\n",
    "\n",
    "Son una estructura realmente útil, pues van a tener métodos que nos permiten realizar las operaciones más frecuentes de la  teoría de conjuntos"
   ]
  },
  {
   "cell_type": "code",
   "execution_count": null,
   "metadata": {},
   "outputs": [],
   "source": [
    "mi_set = {1, 5, 2, 1, 3, 1, 4, 5, 6}\n",
    "x = [1,2,3,4]\n",
    "x = set(x)\n",
    "\n",
    "mi_set.add(9) #Añadimos un 9 a nuestro set\n",
    "mi_set.remove(1) #Eliminamos el 1 de nuestro set\n",
    "\"a\" in mi_set #Comprobamos si el elemento 'a' está en el set\n",
    " \n",
    "### union  realiza la unión de dos conjuntos y devuelve un nuevo conjunto.\n",
    "set1 = {0,1,2,3,4}\n",
    "set2 = {2,3,4,5,6}\n",
    "print(set1.union(set2)) #Devuelve un nuevo set con la unión de los dos anteriores\n",
    "\n",
    "set3 = set1 | set2 \n",
    "set3\n",
    "\n",
    "### intersection   realiza la intersección de dos conjuntos y devuelve un nuevo conjunto.\n",
    "set1 = {0,1,2,3,4}\n",
    "set2 = {2,3,4,5,6}\n",
    "print(set1.intersection(set2)) #Devuelve un nuevo set con la intersección\n",
    "\n",
    "set1 & set2\n",
    "\n",
    "## difference     realiza la diferencia de dos conjuntos, es decir, devuelve un nuevo conjunto con los elementos que no están en el segundo conjunto.\n",
    "set1 = {0,1,2,3,4}\n",
    "set2 = {2,3,4,5,6}\n",
    "print(set1.difference(set2)) #Devuelve un nuevo set con los elemenos de set1 que no están en set2\n",
    "print(set2.difference(set1)) #Devuelve un nuevo set con los elemenos de set2 que no están en set1\n",
    "\n",
    "set1 - set2\n",
    "\n",
    "### update   Es muy parecido al método .union(), pero en su lugar, modifica el valor del set, es decir, no crea un set nuevo.\n",
    "mi_set = {1,2,3,4}\n",
    "set3 = {98,99}\n",
    "mi_set.update(set3)"
   ]
  }
 ],
 "metadata": {
  "kernelspec": {
   "display_name": ".venv",
   "language": "python",
   "name": "python3"
  },
  "language_info": {
   "codemirror_mode": {
    "name": "ipython",
    "version": 3
   },
   "file_extension": ".py",
   "mimetype": "text/x-python",
   "name": "python",
   "nbconvert_exporter": "python",
   "pygments_lexer": "ipython3",
   "version": "3.10.11"
  },
  "orig_nbformat": 4
 },
 "nbformat": 4,
 "nbformat_minor": 2
}
