{
 "cells": [
  {
   "cell_type": "markdown",
   "metadata": {},
   "source": [
    "# Algunos funciones básicas en Python que deberías saber\n",
    "\n",
    "En este notebook dejo algunas funciones que me han servido programando en Python. \n",
    "- Parámetros variables (*args, *kargs)\n",
    "- Funciones lambda \n",
    "- Funciones anidadas (nested functions)\n",
    "- Map y filter\n",
    "- Enumerate y tuple unpacking\n",
    "- Zip"
   ]
  },
  {
   "cell_type": "markdown",
   "metadata": {},
   "source": [
    "## Parámetros variables\n",
    "\n",
    "Generalmente cuando se invoca a una función el número de parámetros es fijo. Sin embargo, Python provee un mecanismo el cual permite invocar la función con el potencial de entregar parámetros de forma ilimitada. \n",
    "\n",
    "Existen 2 clases de tipos de parámetros variables: \n",
    "- tuplas (lista de items) - se pasa como  * parámetro, ej. *args\n",
    "- diccionarios (llave-valor asociado) - se pasa como ** parámetro, ej. **kargs\n",
    "\n",
    "En el siguiente ejemplo vemos como concatenar una lista de texto utilizando *args:\n",
    " "
   ]
  },
  {
   "cell_type": "code",
   "execution_count": 5,
   "metadata": {},
   "outputs": [],
   "source": [
    "def concatenar(*args):\n",
    "    output = ''\n",
    "    for item in args:\n",
    "        output = output + item\n",
    "    return output"
   ]
  },
  {
   "cell_type": "code",
   "execution_count": 6,
   "metadata": {},
   "outputs": [
    {
     "data": {
      "text/plain": [
       "'perrogato'"
      ]
     },
     "execution_count": 6,
     "metadata": {},
     "output_type": "execute_result"
    }
   ],
   "source": [
    "concatenar('perro','gato')"
   ]
  },
  {
   "cell_type": "code",
   "execution_count": 8,
   "metadata": {},
   "outputs": [
    {
     "data": {
      "text/plain": [
       "'rojoverdeazul'"
      ]
     },
     "execution_count": 8,
     "metadata": {},
     "output_type": "execute_result"
    }
   ],
   "source": [
    "lista = ['rojo','verde','azul']\n",
    "concatenar(*lista)"
   ]
  },
  {
   "cell_type": "markdown",
   "metadata": {},
   "source": [
    "En el siguiente ejemplo vemos un ejemplo que utiliza `**kargs`. Definimos una `clase` que llamamos `Configuracion`, la cual contiene 3 parámetros: alfa, beta y gama. La clase provee un método el cual llamamos `configura()` el cual recibe como entrada un número de parámetros variables que corresponden a los parámetros de configuración de la clase. Uno puede decidir si queremos setear todos los parámetros de configuración o solo un subconjunto de ellos. "
   ]
  },
  {
   "cell_type": "code",
   "execution_count": 10,
   "metadata": {},
   "outputs": [],
   "source": [
    "class Configuracion:\n",
    "\n",
    "    def __init__(self):\n",
    "        self.p = {}\n",
    "        self.p['alfa'] = None\n",
    "        self.p['beta'] = None\n",
    "        self.p['gama'] = None\n",
    "    \n",
    "    def configura(self,**kargs):\n",
    "        for k,v in kargs.items():\n",
    "            self.p[k] = v\n",
    "    \n",
    "    def print_configuracion(self):\n",
    "        for k,v in self.p.items():\n",
    "            print(k + ':' + str(v))"
   ]
  },
  {
   "cell_type": "markdown",
   "metadata": {},
   "source": [
    "La clase `Configuracion` tiene un método llamado print_configuracion que imprime en patalla el estado actual de la instancia. "
   ]
  },
  {
   "cell_type": "code",
   "execution_count": 16,
   "metadata": {},
   "outputs": [],
   "source": [
    "config = Configuracion()"
   ]
  },
  {
   "cell_type": "code",
   "execution_count": 17,
   "metadata": {},
   "outputs": [],
   "source": [
    "config.configura(alfa=1)"
   ]
  },
  {
   "cell_type": "code",
   "execution_count": 18,
   "metadata": {},
   "outputs": [
    {
     "name": "stdout",
     "output_type": "stream",
     "text": [
      "alfa:1\n",
      "beta:None\n",
      "gama:None\n"
     ]
    }
   ],
   "source": [
    "config.print_configuracion()"
   ]
  },
  {
   "cell_type": "code",
   "execution_count": 19,
   "metadata": {},
   "outputs": [
    {
     "name": "stdout",
     "output_type": "stream",
     "text": [
      "alfa:2\n",
      "beta:3\n",
      "gama:None\n"
     ]
    }
   ],
   "source": [
    "config.configura(alfa=2,beta=3)\n",
    "config.print_configuracion()"
   ]
  },
  {
   "cell_type": "markdown",
   "metadata": {},
   "source": [
    "## Funciones Lambda\n",
    "\n",
    "Una función lambda es una función simple que se puede escribir dentro de una misma línea de código. Sirve para ejecutar operaciones simples y repetitivas. Muy útiles si se trabaja para modificar valores en dataframes de Pandas por ejemplo. \n",
    "\n",
    "Veamos un ejemplo simple (todos lo usan) para el cálculo de la hipotenusa de un triángulo utilizando el teorema de Pitágoras"
   ]
  },
  {
   "cell_type": "code",
   "execution_count": 3,
   "metadata": {},
   "outputs": [],
   "source": [
    "from math import sqrt\n",
    "pitagoras = lambda x,y : sqrt(x**2 + y**2)"
   ]
  },
  {
   "cell_type": "code",
   "execution_count": 4,
   "metadata": {},
   "outputs": [
    {
     "data": {
      "text/plain": [
       "5.0"
      ]
     },
     "execution_count": 4,
     "metadata": {},
     "output_type": "execute_result"
    }
   ],
   "source": [
    "pitagoras(3,4)"
   ]
  },
  {
   "cell_type": "markdown",
   "metadata": {},
   "source": [
    "## Funciones Anidadas\n",
    "\n",
    "Una función anidada no es nada más que una función dentro de otra función. Debido a reglas de alcance una función anidada no puede ser invocada fuera de la función que la contiene.\n",
    "\n",
    "Las funciones anidadas se puede usar cuando se quiere repetir una operación de forma recursiva."
   ]
  },
  {
   "cell_type": "code",
   "execution_count": 20,
   "metadata": {},
   "outputs": [],
   "source": [
    "def multiplicador_x(x):\n",
    "    def func(n):\n",
    "        return n*x\n",
    "    return func"
   ]
  },
  {
   "cell_type": "code",
   "execution_count": 23,
   "metadata": {},
   "outputs": [
    {
     "data": {
      "text/plain": [
       "20"
      ]
     },
     "execution_count": 23,
     "metadata": {},
     "output_type": "execute_result"
    }
   ],
   "source": [
    "mult5=multiplicador_x(5)\n",
    "mult5(4)"
   ]
  },
  {
   "cell_type": "code",
   "execution_count": 25,
   "metadata": {},
   "outputs": [],
   "source": [
    "def multiplicador_x(x):\n",
    "    return lambda n: x*n"
   ]
  },
  {
   "cell_type": "code",
   "execution_count": 26,
   "metadata": {},
   "outputs": [
    {
     "data": {
      "text/plain": [
       "8"
      ]
     },
     "execution_count": 26,
     "metadata": {},
     "output_type": "execute_result"
    }
   ],
   "source": [
    "mult4=multiplicador_x(4)\n",
    "mult4(2)"
   ]
  },
  {
   "cell_type": "code",
   "execution_count": 27,
   "metadata": {},
   "outputs": [],
   "source": [
    "def cambia_texto(a,b):\n",
    "    def inner(s):\n",
    "        s = s.lower()\n",
    "        return s[::-1]\n",
    "    return inner(a), inner(b)"
   ]
  },
  {
   "cell_type": "code",
   "execution_count": 28,
   "metadata": {},
   "outputs": [
    {
     "data": {
      "text/plain": [
       "('aloh', 'odnum')"
      ]
     },
     "execution_count": 28,
     "metadata": {},
     "output_type": "execute_result"
    }
   ],
   "source": [
    "a = \"HOLA\"\n",
    "b = \"MUNDO\"\n",
    "cambia_texto(a,b)"
   ]
  },
  {
   "cell_type": "markdown",
   "metadata": {},
   "source": [
    "## Map y Filter\n",
    "Es muy útil la funcion `map` cuando se necesita aplicar alguna operación sobre una lista de valores. Vemos algunos ejemplos"
   ]
  },
  {
   "cell_type": "code",
   "execution_count": 29,
   "metadata": {},
   "outputs": [
    {
     "name": "stdout",
     "output_type": "stream",
     "text": [
      "[False, False, True, True, True, False, False, True]\n"
     ]
    }
   ],
   "source": [
    "my_list = [1, 5, 4, 6, 8, 11, 3, 12]\n",
    "esPar = lambda x: x%2 == 0\n",
    "esPar(2)\n",
    "esPar(1)\n",
    "\n",
    "#con map\n",
    "print(list(map(esPar, my_list))) # llamamos a la funcion"
   ]
  },
  {
   "cell_type": "code",
   "execution_count": 30,
   "metadata": {},
   "outputs": [
    {
     "name": "stdout",
     "output_type": "stream",
     "text": [
      "[1, 25, 16, 36, 64, 121, 9, 144]\n"
     ]
    }
   ],
   "source": [
    "print(list(map(lambda x:x**2, my_list)))"
   ]
  },
  {
   "cell_type": "markdown",
   "metadata": {},
   "source": [
    "la funcion `zip` justamente mapea 2 listas juntando sus valores en una tupla"
   ]
  },
  {
   "cell_type": "code",
   "execution_count": 31,
   "metadata": {},
   "outputs": [
    {
     "data": {
      "text/plain": [
       "[(1, 1), (1, 2), (2, 2)]"
      ]
     },
     "execution_count": 31,
     "metadata": {},
     "output_type": "execute_result"
    }
   ],
   "source": [
    "lista1 = [1, 1, 2]\n",
    "lista2 = [1, 2, 2]\n",
    "list(zip(lista1, lista2))"
   ]
  },
  {
   "cell_type": "code",
   "execution_count": 32,
   "metadata": {},
   "outputs": [
    {
     "data": {
      "text/plain": [
       "[2, 5, 8]"
      ]
     },
     "execution_count": 32,
     "metadata": {},
     "output_type": "execute_result"
    }
   ],
   "source": [
    "sumacuadrado = lambda x: x[0]**2 + x[1]**2 \n",
    "list(map(sumacuadrado, zip(lista1, lista2)))"
   ]
  },
  {
   "cell_type": "markdown",
   "metadata": {},
   "source": [
    "## Enumarate y tuple unpacking\n",
    "\n",
    "`enumerate` es util cuando se quiere enumerar los valores de una secuencia, ya sea una lista o tupla. "
   ]
  },
  {
   "cell_type": "code",
   "execution_count": 1,
   "metadata": {},
   "outputs": [
    {
     "name": "stdout",
     "output_type": "stream",
     "text": [
      "(0, 'perro') <class 'tuple'>\n",
      "(1, 'gato') <class 'tuple'>\n",
      "(2, 'loro') <class 'tuple'>\n"
     ]
    }
   ],
   "source": [
    "lista = ['perro', 'gato', 'loro']\n",
    "enumerate(lista)\n",
    "\n",
    "for i in enumerate(lista):\n",
    "    print(i, type(i))"
   ]
  },
  {
   "cell_type": "markdown",
   "metadata": {},
   "source": [
    "El `tuple unpacking` sirve para separa una consulta o resultado de una función es varios objetos distintos"
   ]
  },
  {
   "cell_type": "code",
   "execution_count": 8,
   "metadata": {},
   "outputs": [
    {
     "name": "stdout",
     "output_type": "stream",
     "text": [
      "a: ola b: ke c: ase\n"
     ]
    }
   ],
   "source": [
    "a, b, c = input('ingresa tres valores separados por un espacio').split() \n",
    "print('a:',a,'b:',b,'c:',c)"
   ]
  },
  {
   "cell_type": "markdown",
   "metadata": {},
   "source": [
    "## Zip\n",
    "\n",
    "Esta función toma 2 secuencias o más de listas o tuplas (incluso cadenas) y las entrelaza creando nuevos objetos con estos elementos."
   ]
  },
  {
   "cell_type": "code",
   "execution_count": 2,
   "metadata": {},
   "outputs": [
    {
     "name": "stdout",
     "output_type": "stream",
     "text": [
      "(1, 1)\n",
      "(2, 2)\n",
      "(3, 3)\n",
      "(4, 4)\n"
     ]
    }
   ],
   "source": [
    "t = (1,2,3,4)\n",
    "for par in zip(t,t):\n",
    "    print(par)"
   ]
  },
  {
   "cell_type": "code",
   "execution_count": 3,
   "metadata": {},
   "outputs": [
    {
     "data": {
      "text/plain": [
       "[('a', 'c', 'e'), ('b', 'd', 'f')]"
      ]
     },
     "execution_count": 3,
     "metadata": {},
     "output_type": "execute_result"
    }
   ],
   "source": [
    "#### Se puede utilizar para transponer una matriz (lista de listas)\n",
    "m = [['a','b'],['c','d'],['e','f']]\n",
    "list(zip(*m))"
   ]
  },
  {
   "cell_type": "code",
   "execution_count": 5,
   "metadata": {},
   "outputs": [
    {
     "name": "stdout",
     "output_type": "stream",
     "text": [
      "<zip object at 0x000001FAD76CDA80>\n",
      "('a', 5)\n",
      "('b', 6)\n",
      "('c', 7)\n",
      "(4, 5)\n"
     ]
    }
   ],
   "source": [
    "### se puede utilizar para unir listas y tuplas\n",
    "lista = [\"a\", \"b\", \"c\",4]\n",
    "tupla = (5,6,7,5)\n",
    "\n",
    "objeto_zip = zip(lista,tupla)\n",
    "print(objeto_zip)  \n",
    "for i in objeto_zip:\n",
    "    print(i)"
   ]
  }
 ],
 "metadata": {
  "kernelspec": {
   "display_name": ".venv",
   "language": "python",
   "name": "python3"
  },
  "language_info": {
   "codemirror_mode": {
    "name": "ipython",
    "version": 3
   },
   "file_extension": ".py",
   "mimetype": "text/x-python",
   "name": "python",
   "nbconvert_exporter": "python",
   "pygments_lexer": "ipython3",
   "version": "3.10.11"
  },
  "orig_nbformat": 4
 },
 "nbformat": 4,
 "nbformat_minor": 2
}
